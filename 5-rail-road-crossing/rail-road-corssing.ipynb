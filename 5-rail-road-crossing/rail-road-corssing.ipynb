{
 "cells": [
  {
   "cell_type": "markdown",
   "metadata": {
    "collapsed": false,
    "outputExpanded": false
   },
   "source": [
    "This was a suprisingly quick mystery location (partly due to luck)\n",
    "\n",
    "\n",
    "![photo from the mystery location](mystery-location-rail-road-crossing.jpg)\n",
    "\n",
    "\n",
    "An assumption was made that the location is somewhere in the vicinity of Moss or Oslo in southern Norway.\n",
    "\n",
    "The initial points of interest were determined by finding locations where there are railway level crossings close to bridges.\n",
    "\n",
    "The opestreetmap key-value paris for these are:\n",
    "\n",
    "- node: `railway=level_crossing`\n",
    "- way: `bridge=*`\n",
    "\n",
    "\n",
    "Below is the snippet of overpass query language that did most of the work.\n",
    "The query looks for level crossings within 50 km of Moss' administrative boundary. Bridges that are not within 100 meters of one of those level crossings are removed.\n",
    "\n",
    "```overpassQL \n",
    "[out:json];\n",
    "\n",
    "relation[\"name\"=\"Moss\"]->.bounds;\n",
    "node(around.bounds:50000)[railway=level_crossing]->.crossings;\n",
    "( \n",
    "  way(around.crossings:100)[bridge];\n",
    ");\n",
    "\n",
    "# boilerpate to make the query return data\n",
    "(._;>;);\n",
    "out meta;\n",
    "```\n",
    "\n",
    "Sample output data: \n",
    "\n",
    "![screenshot of the overpass output](overpass-output.png \"click for interactive verions on overpass turbo\")\n",
    "\n",
    "See [this overpass turbo link](http://overpass-turbo.eu/s/l7K) for a live interactive version of the query code.\n",
    "\n",
    "\n",
    "# Conclusion\n",
    "\n",
    "The query returned only one result that was within central Moss, looking at [the location in OSM](http://www.openstreetmap.org/way/4693245#map=19/59.43390/10.65529) and virtually [visiting it with google street view]() confirmed it to be the final location as [geo:59.43414,10.65547?z=17](geo:59.43414,10.65547)\n",
    "\n",
    "If the location had not been found by luck, a few further relatively simple filtering criteria could have been added:\n",
    "\n",
    "- a `highway` passes over the `railway`, not the other way around. The the OSM tag `level` could come in handy for this.\n",
    "- There seems to be several railroad tracks in parallelle. This could be used to filter out locations where there is only a single railroad track. This would probably  eliminate many rural POIs.\n",
    "- since this is an urban environment, it is close to `building=*`\n",
    "\n"
   ]
  },
  {
   "cell_type": "markdown",
   "metadata": {
    "outputExpanded": false
   },
   "source": [
    "<iframe frameborder=\"0\" scrolling=\"no\" marginheight=\"0\" marginwidth=\"0\" src=\"https://www.openstreetmap.org/export/embed.html?bbox=10.650107860565187%2C59.43184073034056%2C10.660836696624758%2C59.43644552499079&amp;layer=mapnik&amp;marker=59.434143205993955%2C10.65547227859497\" style=\"border:0;width:100%;height:350px\"></iframe>\n",
    "\n",
    "<iframe src=\"https://www.google.com/maps/embed?pb=!1m0!3m2!1sen!2sfi!4v1483882950004!6m8!1m7!1sWrjWC_BBiP4orrk8vdVl6g!2m2!1d59.43403549374887!2d10.65547686388564!3f200.8861092416663!4f-10.466896753055352!5f0.4000000000000002\" frameborder=\"0\" style=\"border:0;width:100%;height:350px\" allowfullscreen></iframe>"
   ]
  },
  {
   "cell_type": "markdown",
   "metadata": {},
   "source": [
    "# Improving the query\n",
    "\n",
    "\n",
    "(7 results)\n",
    "```\n",
    "[out:json];\n",
    "\n",
    "relation[\"name\"=\"Moss\"]->.bounds;\n",
    "\n",
    "node(around.bounds:50000)[railway=level_crossing]->.crossings;\n",
    "\n",
    "( \n",
    "  way(around.crossings:50)[bridge][highway][layer=1];\n",
    ");\n",
    "(._;>;);\n",
    "out meta;\n",
    "```\n",
    "\n",
    "\n",
    "---\n",
    "\n",
    "\n",
    "make sure the railway is not on a bridge\n",
    "\n",
    "\n",
    "\n",
    "```overpassQL\n",
    "[out:json];\n",
    "\n",
    "node[\"name\"=\"Oslo\"][\"admin_level\"=2]->.bounds;\n",
    "\n",
    "node(around.bounds:200000)[railway=level_crossing]->.crossings;\n",
    "\n",
    "(\n",
    "  way(around.crossings:50)[bridge][highway][!railway][layer=1];\n",
    ")->.bridges;\n",
    "\n",
    "(\n",
    "  way(around.bridges:2)[railway=rail][!bridge]\n",
    ");\n",
    "\n",
    "(._;>;);\n",
    "out meta;"
   ]
  },
  {
   "cell_type": "markdown",
   "metadata": {},
   "source": [
    "[out:json];\n",
    "\n",
    "node[\"name\"=\"Oslo\"][\"admin_level\"=2]->.bounds;\n",
    "\n",
    "(\n",
    "    node(around.bounds:200000)[railway=level_crossing];\n",
    ")->.crossings;\n",
    "\n",
    "\n",
    "(\n",
    "  way(around.crossings:50)[bridge][highway][!railway][layer=1];\n",
    ")->.bridges;\n",
    "\n",
    "(\n",
    "  way(around.bridges:2)[railway=rail][!bridge];\n",
    ")->.rails;\n",
    "\n",
    "\n",
    "/*added by auto repair*/\n",
    "(.rails;>;);\n",
    "/*end of auto repair*/\n",
    "out meta;"
   ]
  }
 ],
 "metadata": {
  "kernel_info": {
   "name": "python3"
  },
  "kernelspec": {
   "display_name": "Python 3",
   "language": "python",
   "name": "python3"
  },
  "language_info": {
   "codemirror_mode": {
    "name": "ipython",
    "version": 3
   },
   "file_extension": ".py",
   "mimetype": "text/x-python",
   "name": "python",
   "nbconvert_exporter": "python",
   "pygments_lexer": "ipython3",
   "version": "3.5.2+"
  }
 },
 "nbformat": 4,
 "nbformat_minor": 0
}
